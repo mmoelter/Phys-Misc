{
 "cells": [
  {
   "cell_type": "code",
   "execution_count": 41,
   "id": "6930d0cc-c2e2-4a5d-99a9-611d69033b59",
   "metadata": {},
   "outputs": [],
   "source": [
    "from ipywidgets import interactive\n",
    "import matplotlib.pyplot as plt\n",
    "import numpy as np\n",
    "from scipy.fftpack  import fft, fftfreq\n",
    "#plt.rcParams['font.size'] = 14"
   ]
  },
  {
   "cell_type": "markdown",
   "id": "eeccafcd-2aff-4263-a4a3-2e29a0a76e56",
   "metadata": {},
   "source": [
    "# To run, use menu: *Run/Run All Cells*, then scroll down to the plot\n",
    "## Power Spectrum Visualizer\n",
    "This will calculate and graph the power spectrum for the sum of two signals.\n",
    "The power spectrum displays the frequency content in the signal.\n",
    "\n",
    "The function below 'PowerSpectrumCalculator' plots the signals and their sum, then plots the power spectrum."
   ]
  },
  {
   "cell_type": "code",
   "execution_count": 44,
   "id": "b6e2fd97-e540-4af7-9d89-af83960d1c7d",
   "metadata": {},
   "outputs": [],
   "source": [
    "def PowerSpectrumCalculator(f1,f2,A1,A2):\n",
    "    numpts = 1024\n",
    "    ti = 0\n",
    "    tf = 5\n",
    "    t = np.linspace(ti,tf,numpts)\n",
    "    N = len(t)\n",
    "    T = t[1]-t[0] # data spacing\n",
    "    print(T)\n",
    "    y1 = A1*np.sin(2*np.pi*f1*t)\n",
    "    y2 = A2*np.sin(2*np.pi*f2*t)\n",
    "    ytot = y1 + y2\n",
    "    ytot_fft = fft(ytot)\n",
    "    xf = fftfreq(N, T)[:N//2]\n",
    "    power_spectrum = 2.0/N * np.abs(ytot_fft[0:N//2])\n",
    "    plt.figure(figsize=[8,6])\n",
    "    plt.subplot(2,1,1)\n",
    "    plt.plot(t,y1,'b:',label='y1')\n",
    "    plt.plot(t,y2,'g:',label='y2')\n",
    "    plt.plot(t,ytot,'k',label='ytot')\n",
    "    plt.xlabel('time')\n",
    "    plt.ylabel('y1, y2, ytot')\n",
    "#    plt.legend(bbox_to_anchor=(1.05, 1), loc='best', borderaxespad=0.)\n",
    "    plt.grid(True)\n",
    "#\n",
    "    plt.subplot(2,1,2)\n",
    "    plt.plot(xf,power_spectrum)\n",
    "    #titlestring = r'$f_1$ = '+str(f1)+r', $f_2$ = '+str(f2)\n",
    "    #plt.title(titlestring)\n",
    "    plt.xlabel(r'$f$ (Hz)')\n",
    "    plt.ylabel('power spectrum (arb)')\n",
    "    plt.axis([0,15,0,1.05*max(power_spectrum)])\n",
    "    plt.grid(True)\n",
    "    plt.savefig('FFTSimulation.pdf')\n",
    "    plt.show()"
   ]
  },
  {
   "cell_type": "markdown",
   "id": "49a743be-4fff-4860-b18c-8adaf66c7a6a",
   "metadata": {},
   "source": [
    "Graph: Power spectrum \n",
    "---------------------\n",
    "As you explore, a good strategy is to adjust only one parameter at a time.\n",
    "* The amplitude is the strength of each signal.\n",
    "* The frequency is the the number of oscillations."
   ]
  },
  {
   "cell_type": "code",
   "execution_count": 49,
   "id": "d8c13a2d-acb5-49b0-b022-98f5239a3150",
   "metadata": {},
   "outputs": [
    {
     "data": {
      "application/vnd.jupyter.widget-view+json": {
       "model_id": "20470f7443ae4bbbbf648a48a97d05a0",
       "version_major": 2,
       "version_minor": 0
      },
      "text/plain": [
       "interactive(children=(FloatSlider(value=5.0, description='f1', max=10.0, min=1.0, step=0.01), FloatSlider(valu…"
      ]
     },
     "execution_count": 49,
     "metadata": {},
     "output_type": "execute_result"
    }
   ],
   "source": [
    "interactive_plot = interactive(PowerSpectrumCalculator, A1=(0,5,0.2),A2=(0,5,0.2),\n",
    "                               f1=(1,10,0.01),f2=(1,10,0.01),\n",
    "                               continuous_update=False)\n",
    "output = interactive_plot.children[-1]\n",
    "output.layout.height = '600px'\n",
    "interactive_plot"
   ]
  },
  {
   "cell_type": "code",
   "execution_count": null,
   "id": "fce08ded-84f7-4331-b9d6-c754e17edf6f",
   "metadata": {},
   "outputs": [],
   "source": []
  }
 ],
 "metadata": {
  "kernelspec": {
   "display_name": "Python 3 (ipykernel)",
   "language": "python",
   "name": "python3"
  },
  "language_info": {
   "codemirror_mode": {
    "name": "ipython",
    "version": 3
   },
   "file_extension": ".py",
   "mimetype": "text/x-python",
   "name": "python",
   "nbconvert_exporter": "python",
   "pygments_lexer": "ipython3",
   "version": "3.12.7"
  }
 },
 "nbformat": 4,
 "nbformat_minor": 5
}
